{
 "cells": [
  {
   "cell_type": "markdown",
   "metadata": {},
   "source": [
    "# **In this notebook, we explore the data of Open Damir in 2024**"
   ]
  },
  {
   "cell_type": "markdown",
   "metadata": {},
   "source": [
    "## Loading the data"
   ]
  },
  {
   "cell_type": "code",
   "execution_count": 1,
   "metadata": {},
   "outputs": [
    {
     "name": "stdout",
     "output_type": "stream",
     "text": [
      "The time needed for the loading of the data is : 169.16560459136963s\n"
     ]
    }
   ],
   "source": [
    "import polars as pl\n",
    "import time\n",
    "\n",
    "DATA_2024 = []\n",
    "months = ['01', '02', '03', '04', '05', '06', '07', '08', '09', '10', '11', '12']\n",
    "start_time = time.time()\n",
    "for month in months: \n",
    "    DATA_2024.append(pl.read_csv(\"D:\\\\projet s8 files\\\\A2024{}.csv\".format(month), separator=';', ignore_errors=True, columns=['AGE_BEN_SNDS', 'ASU_NAT', 'BEN_SEX_COD', 'CPT_ENV_TYP', 'FLT_PAI_MNT', 'FLT_REM_MNT']))\n",
    "end_time = time.time()\n",
    "print(\"The time needed for the loading of the data is : {}s\".format(end_time-start_time))"
   ]
  },
  {
   "cell_type": "markdown",
   "metadata": {},
   "source": [
    "**Give the count of every line such that the reimbursement is negative by the SS**"
   ]
  },
  {
   "cell_type": "code",
   "execution_count": 2,
   "metadata": {},
   "outputs": [
    {
     "name": "stdout",
     "output_type": "stream",
     "text": [
      "The size of the January data for  is : (38758176, 6)\n",
      "The size of the negative January data for  is : (5829184, 6)\n",
      "The size of the February data for  is : (36445251, 6)\n",
      "The size of the negative February data for  is : (5490244, 6)\n",
      "The size of the March data for  is : (36346160, 6)\n",
      "The size of the negative March data for  is : (5465488, 6)\n",
      "The size of the April data for  is : (36248691, 6)\n",
      "The size of the negative April data for  is : (5240798, 6)\n",
      "The size of the May data for  is : (36940288, 6)\n",
      "The size of the negative May data for  is : (4992228, 6)\n",
      "The size of the June data for  is : (37363788, 6)\n",
      "The size of the negative June data for  is : (4847137, 6)\n",
      "The size of the July data for  is : (39730422, 6)\n",
      "The size of the negative July data for  is : (4906198, 6)\n",
      "The size of the August data for  is : (34439860, 6)\n",
      "The size of the negative August data for  is : (4127373, 6)\n",
      "The size of the September data for  is : (36205150, 6)\n",
      "The size of the negative September data for  is : (4184563, 6)\n",
      "The size of the October data for  is : (39075646, 6)\n",
      "The size of the negative October data for  is : (4377794, 6)\n",
      "The size of the November data for  is : (35058450, 6)\n",
      "The size of the negative November data for  is : (3770781, 6)\n",
      "The size of the December data for  is : (36197289, 6)\n",
      "The size of the negative December data for  is : (3646175, 6)\n"
     ]
    }
   ],
   "source": [
    "months_names = ['January', 'February', 'March', 'April', 'May', 'June', 'July', 'August', 'September', 'October', 'November', 'December']\n",
    "for i, data in enumerate(DATA_2024):\n",
    "    data_neg = data.filter(data['FLT_REM_MNT'] < 0)\n",
    "    print(f\"The size of the {months_names[i]} data for  is : {data.shape}\")\n",
    "    print(f\"The size of the negative {months_names[i]} data for  is : {data_neg.shape}\")\n",
    "    \n"
   ]
  },
  {
   "cell_type": "markdown",
   "metadata": {},
   "source": [
    "**Calculate the amount paid and the amount reimbursed by the SS, and at last the RAC**"
   ]
  },
  {
   "cell_type": "code",
   "execution_count": 3,
   "metadata": {},
   "outputs": [
    {
     "name": "stdout",
     "output_type": "stream",
     "text": [
      "The total amount paid for the month of January is : 14144666470.159996\n",
      "The total amount reimbursed for the month of January is : 13311989353.640001\n",
      "The total amount paid for the month of February is : 13589662729.23\n",
      "The total amount reimbursed for the month of February is : 12560276443.039995\n",
      "The total amount paid for the month of March is : 13328616382.430004\n",
      "The total amount reimbursed for the month of March is : 12482883416.36\n",
      "The total amount paid for the month of April is : 13156230116.510015\n",
      "The total amount reimbursed for the month of April is : 12517522189.269997\n",
      "The total amount paid for the month of May is : 15280226958.52\n",
      "The total amount reimbursed for the month of May is : 14028087985.489983\n",
      "The total amount paid for the month of June is : 14661110895.169998\n",
      "The total amount reimbursed for the month of June is : 13429169032.779985\n",
      "The total amount paid for the month of July is : 15464710988.569998\n",
      "The total amount reimbursed for the month of July is : 14329503219.50999\n",
      "The total amount paid for the month of August is : 11074975306.859999\n",
      "The total amount reimbursed for the month of August is : 11182759302.73\n",
      "The total amount paid for the month of September is : 13362059430.439993\n",
      "The total amount reimbursed for the month of September is : 12649212787.820007\n",
      "The total amount paid for the month of October is : 15555087741.699993\n",
      "The total amount reimbursed for the month of October is : 14261940134.90001\n",
      "The total amount paid for the month of November is : 13508940256.13\n",
      "The total amount reimbursed for the month of November is : 12735913891.789993\n",
      "The total amount paid for the month of December is : 14659206975.220003\n",
      "The total amount reimbursed for the month of December is : 13820837230.11002\n"
     ]
    }
   ],
   "source": [
    "amounts_paid = []\n",
    "amounts_reimbured = []\n",
    "for i, data in enumerate(DATA_2024):\n",
    "    amounts_paid.append(data['FLT_PAI_MNT'].sum())\n",
    "    amounts_reimbured.append(data['FLT_REM_MNT'].sum())\n",
    "    print(f\"The total amount paid for the month of {months_names[i]} is : {amounts_paid[i]}\")\n",
    "    print(f\"The total amount reimbursed for the month of {months_names[i]} is : {amounts_reimbured[i]}\")\n"
   ]
  },
  {
   "cell_type": "code",
   "execution_count": 4,
   "metadata": {},
   "outputs": [
    {
     "data": {
      "text/plain": [
       "[832677116.5199947,\n",
       " 1029386286.1900043,\n",
       " 845732966.0700035,\n",
       " 638707927.2400188,\n",
       " 1252138973.0300179,\n",
       " 1231941862.3900127,\n",
       " 1135207769.060007,\n",
       " -107783995.87000084,\n",
       " 712846642.6199856,\n",
       " 1293147606.799984,\n",
       " 773026364.3400059,\n",
       " 838369745.1099834]"
      ]
     },
     "execution_count": 4,
     "metadata": {},
     "output_type": "execute_result"
    }
   ],
   "source": [
    "RAC = []\n",
    "for i in range(12):\n",
    "    RAC.append(amounts_paid[i] -amounts_reimbured[i])\n",
    "RAC"
   ]
  },
  {
   "cell_type": "markdown",
   "metadata": {},
   "source": [
    "Load the data to a pandas dataframe"
   ]
  },
  {
   "cell_type": "code",
   "execution_count": 5,
   "metadata": {},
   "outputs": [],
   "source": [
    "import pandas as pd\n",
    "df_1 = pd.DataFrame({'Month': months_names, 'Amount Paid': amounts_paid, 'Amount Reimbursed': amounts_reimbured, 'RAC': RAC})\n",
    "df_1.to_csv(\"df_mois_merged_2024.csv\")"
   ]
  },
  {
   "cell_type": "markdown",
   "metadata": {},
   "source": [
    "Visualize this trend"
   ]
  },
  {
   "cell_type": "code",
   "execution_count": 6,
   "metadata": {},
   "outputs": [
    {
     "data": {
      "image/png": "[encoded data removed]",
      "text/plain": [
       "<Figure size 640x480 with 1 Axes>"
      ]
     },
     "metadata": {},
     "output_type": "display_data"
    }
   ],
   "source": [
    "import matplotlib.pyplot as plt\n",
    "df_1[[\"Amount Paid\", \"Amount Reimbursed\", \"RAC\"]].plot(kind=\"bar\", stacked=False, colormap=\"viridis\")\n",
    "plt.title('RAC per month in 2023')\n",
    "plt.show()"
   ]
  }
 ],
 "metadata": {
  "kernelspec": {
   "display_name": "Python 3",
   "language": "python",
   "name": "python3"
  },
  "language_info": {
   "codemirror_mode": {
    "name": "ipython",
    "version": 3
   },
   "file_extension": ".py",
   "mimetype": "text/x-python",
   "name": "python",
   "nbconvert_exporter": "python",
   "pygments_lexer": "ipython3",
   "version": "3.12.4"
  }
 },
 "nbformat": 4,
 "nbformat_minor": 2
}
